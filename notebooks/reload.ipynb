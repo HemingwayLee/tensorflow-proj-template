{
 "cells": [
  {
   "cell_type": "markdown",
   "id": "e2fde8d2",
   "metadata": {},
   "source": [
    "# When to Use reload\n",
    "\n",
    "The reload function comes in handy in Jupyter Notebook when you're actively developing and testing your code, and you want to see the effects of changes you've made in your Python modules (.py files) reflected immediately without restarting the kernel"
   ]
  },
  {
   "cell_type": "code",
   "execution_count": 17,
   "id": "739ceb9e",
   "metadata": {},
   "outputs": [],
   "source": [
    "import sys\n",
    "sys.path.append('/home/jovyan/work/src')\n",
    "\n",
    "from importlib import reload\n",
    "import txtgen"
   ]
  },
  {
   "cell_type": "code",
   "execution_count": 18,
   "id": "b745855f",
   "metadata": {},
   "outputs": [
    {
     "name": "stdout",
     "output_type": "stream",
     "text": [
      "Hello, LeeYunWei\n"
     ]
    }
   ],
   "source": [
    "reload(txtgen)\n",
    "print(txtgen.say_hello(\"LeeYunWei\"))"
   ]
  }
 ],
 "metadata": {
  "kernelspec": {
   "display_name": "Python 3",
   "language": "python",
   "name": "python3"
  },
  "language_info": {
   "codemirror_mode": {
    "name": "ipython",
    "version": 3
   },
   "file_extension": ".py",
   "mimetype": "text/x-python",
   "name": "python",
   "nbconvert_exporter": "python",
   "pygments_lexer": "ipython3",
   "version": "3.9.4"
  }
 },
 "nbformat": 4,
 "nbformat_minor": 5
}
