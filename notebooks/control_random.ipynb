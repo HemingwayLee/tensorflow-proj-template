{
 "cells": [
  {
   "cell_type": "code",
   "execution_count": 12,
   "id": "ef22b64c",
   "metadata": {},
   "outputs": [],
   "source": [
    "import numpy as np\n",
    "import random\n",
    "import tensorflow as tf\n",
    "\n",
    "seed = 5\n",
    "\n",
    "np.random.seed(seed)\n",
    "random.seed(5)\n",
    "tf.random.set_seed(seed)"
   ]
  },
  {
   "cell_type": "code",
   "execution_count": 13,
   "id": "794dfef4",
   "metadata": {},
   "outputs": [
    {
     "name": "stdout",
     "output_type": "stream",
     "text": [
      "[[0.22199317 0.87073231]\n",
      " [0.20671916 0.91861091]\n",
      " [0.48841119 0.61174386]]\n",
      "0.6229016948897019\n",
      "tf.Tensor(0.6263931, shape=(), dtype=float32)\n"
     ]
    }
   ],
   "source": [
    "print(np.random.rand(3,2))\n",
    "print(random.random())\n",
    "print(tf.random.uniform([]))"
   ]
  }
 ],
 "metadata": {
  "kernelspec": {
   "display_name": "Python 3",
   "language": "python",
   "name": "python3"
  },
  "language_info": {
   "codemirror_mode": {
    "name": "ipython",
    "version": 3
   },
   "file_extension": ".py",
   "mimetype": "text/x-python",
   "name": "python",
   "nbconvert_exporter": "python",
   "pygments_lexer": "ipython3",
   "version": "3.9.4"
  }
 },
 "nbformat": 4,
 "nbformat_minor": 5
}
