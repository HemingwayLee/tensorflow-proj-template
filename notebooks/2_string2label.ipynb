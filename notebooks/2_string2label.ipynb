{
 "cells": [
  {
   "cell_type": "code",
   "execution_count": 18,
   "id": "617fcc53",
   "metadata": {},
   "outputs": [],
   "source": [
    "import random\n",
    "import numpy as np\n",
    "\n",
    "def generate_dict(all_chars):\n",
    "    num_chars = len(all_chars)\n",
    "    \n",
    "    char2label = dict((char, i) for i, char in enumerate(all_chars))\n",
    "    label2char = dict((i, char) for i, char in enumerate(all_chars))\n",
    "    \n",
    "    return char2label, label2char\n",
    "    \n",
    "\n",
    "def generate_strings_in_batch(all_chars, batch_size, length, variance=0):\n",
    "    char2label, label2char = generate_dict(all_chars)\n",
    "    \n",
    "    strings = []\n",
    "    labels = []\n",
    "    \n",
    "    for i in range(batch_size):\n",
    "        # rand = random.random()\n",
    "        the_length = length + np.random.randint(-variance, variance+1)\n",
    "        the_string = \"\".join([random.choice(all_chars[:len(all_chars)]) for _ in range(the_length)])\n",
    "        print(f\"{the_length}: {the_string}\")\n",
    "        \n",
    "        the_label = [char2label[char] for char in the_string]\n",
    "        strings.append(the_string)\n",
    "        labels.append(np.array(the_label))\n",
    "        \n",
    "    return strings, labels"
   ]
  },
  {
   "cell_type": "code",
   "execution_count": 19,
   "id": "6748039f",
   "metadata": {},
   "outputs": [
    {
     "name": "stdout",
     "output_type": "stream",
     "text": [
      "12: BAB606966927\n",
      "14: A9AB1595443657\n",
      "12: 33576721415B\n",
      "14: 0BBB86A3B395B6\n",
      "15: 5719959842813A9\n",
      "16: A1493439A3406746\n",
      "13: BB0A074A57599\n",
      "15: 912839B51387B04\n",
      "14: 662169B3645615\n",
      "15: 2191A8A080BB225\n"
     ]
    }
   ],
   "source": [
    "all_chars = \"0123456789AB\"\n",
    "strings, labels = generate_strings_in_batch(all_chars, 10, 14, 2)"
   ]
  },
  {
   "cell_type": "code",
   "execution_count": 20,
   "id": "a73c64b0",
   "metadata": {},
   "outputs": [
    {
     "name": "stdout",
     "output_type": "stream",
     "text": [
      "({'0': 0, '1': 1, '2': 2, '3': 3, '4': 4, '5': 5, '6': 6, '7': 7, '8': 8, '9': 9, 'A': 10, 'B': 11}, {0: '0', 1: '1', 2: '2', 3: '3', 4: '4', 5: '5', 6: '6', 7: '7', 8: '8', 9: '9', 10: 'A', 11: 'B'})\n",
      "['BAB606966927', 'A9AB1595443657', '33576721415B', '0BBB86A3B395B6', '5719959842813A9', 'A1493439A3406746', 'BB0A074A57599', '912839B51387B04', '662169B3645615', '2191A8A080BB225']\n",
      "[array([11, 10, 11,  6,  0,  6,  9,  6,  6,  9,  2,  7]), array([10,  9, 10, 11,  1,  5,  9,  5,  4,  4,  3,  6,  5,  7]), array([ 3,  3,  5,  7,  6,  7,  2,  1,  4,  1,  5, 11]), array([ 0, 11, 11, 11,  8,  6, 10,  3, 11,  3,  9,  5, 11,  6]), array([ 5,  7,  1,  9,  9,  5,  9,  8,  4,  2,  8,  1,  3, 10,  9]), array([10,  1,  4,  9,  3,  4,  3,  9, 10,  3,  4,  0,  6,  7,  4,  6]), array([11, 11,  0, 10,  0,  7,  4, 10,  5,  7,  5,  9,  9]), array([ 9,  1,  2,  8,  3,  9, 11,  5,  1,  3,  8,  7, 11,  0,  4]), array([ 6,  6,  2,  1,  6,  9, 11,  3,  6,  4,  5,  6,  1,  5]), array([ 2,  1,  9,  1, 10,  8, 10,  0,  8,  0, 11, 11,  2,  2,  5])]\n"
     ]
    }
   ],
   "source": [
    "print(generate_dict(all_chars))\n",
    "print(strings)\n",
    "print(labels)"
   ]
  }
 ],
 "metadata": {
  "kernelspec": {
   "display_name": "Python 3",
   "language": "python",
   "name": "python3"
  },
  "language_info": {
   "codemirror_mode": {
    "name": "ipython",
    "version": 3
   },
   "file_extension": ".py",
   "mimetype": "text/x-python",
   "name": "python",
   "nbconvert_exporter": "python",
   "pygments_lexer": "ipython3",
   "version": "3.9.4"
  }
 },
 "nbformat": 4,
 "nbformat_minor": 5
}
